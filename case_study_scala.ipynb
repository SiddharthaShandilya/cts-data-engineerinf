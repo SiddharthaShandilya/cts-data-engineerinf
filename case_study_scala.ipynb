{
 "cells": [
  {
   "cell_type": "code",
   "execution_count": 1,
   "id": "e06b8a9b",
   "metadata": {},
   "outputs": [
    {
     "data": {
      "text/plain": [
       "Intitializing Scala interpreter ..."
      ]
     },
     "metadata": {},
     "output_type": "display_data"
    },
    {
     "data": {
      "text/plain": [
       "Spark Web UI available at http://SIddhartha:4042\n",
       "SparkContext available as 'sc' (version = 3.0.3, master = local[*], app id = local-1653458730490)\n",
       "SparkSession available as 'spark'\n"
      ]
     },
     "metadata": {},
     "output_type": "display_data"
    },
    {
     "name": "stdout",
     "output_type": "stream",
     "text": [
      "Initializing Spark context...\n"
     ]
    },
    {
     "data": {
      "text/plain": [
       "import org.apache.spark.SparkConf\r\n",
       "import org.apache.spark.sql.SparkSession\r\n",
       "import org.apache.spark.sql.SaveMode\r\n",
       "import org.apache.hadoop.conf.Configuration\r\n",
       "import org.apache.hadoop.fs.FileSystem\r\n",
       "import org.apache.hadoop.fs.Path\r\n",
       "conf: org.apache.spark.SparkConf = org.apache.spark.SparkConf@68f538f7\r\n",
       "spark: org.apache.spark.sql.SparkSession = org.apache.spark.sql.SparkSession@1347febf\r\n"
      ]
     },
     "execution_count": 1,
     "metadata": {},
     "output_type": "execute_result"
    }
   ],
   "source": [
    "import org.apache.spark.SparkConf\n",
    "import org.apache.spark.sql.SparkSession\n",
    "import org.apache.spark.sql.SaveMode\n",
    "\n",
    "import org.apache.hadoop.conf.Configuration\n",
    "import org.apache.hadoop.fs.FileSystem\n",
    "import org.apache.hadoop.fs.Path\n",
    "\n",
    "println(\"Initializing Spark context...\")\n",
    "val conf = new SparkConf().setAppName(\"Example App\")\n",
    "val spark: SparkSession = SparkSession.builder.config(conf).getOrCreate()\n",
    "//if you look in Spark Master UI, a application will be running after this"
   ]
  },
  {
   "cell_type": "code",
   "execution_count": 2,
   "id": "d1e31980",
   "metadata": {},
   "outputs": [
    {
     "name": "stdout",
     "output_type": "stream",
     "text": [
      "************\n",
      "Hello, world!\n",
      "************\n"
     ]
    },
    {
     "data": {
      "text/plain": [
       "rdd: org.apache.spark.rdd.RDD[scala.collection.immutable.Range.Inclusive] = ParallelCollectionRDD[0] at parallelize at <console>:34\r\n"
      ]
     },
     "execution_count": 2,
     "metadata": {},
     "output_type": "execute_result"
    }
   ],
   "source": [
    "println(\"************\")\n",
    "println(\"Hello, world!\")\n",
    "val rdd = spark.sparkContext.parallelize(Array(1 to 10))\n",
    "rdd.count()\n",
    "println(\"************\")"
   ]
  },
  {
   "cell_type": "code",
   "execution_count": 3,
   "id": "c9412459",
   "metadata": {},
   "outputs": [
    {
     "data": {
      "text/plain": [
       "df: org.apache.spark.sql.DataFrame = [age: int, gender: string ... 5 more fields]\r\n"
      ]
     },
     "execution_count": 3,
     "metadata": {},
     "output_type": "execute_result"
    }
   ],
   "source": [
    "val df = spark.read.option(\"header\", true).option(\"inferSchema\", true).csv(\"StudentData.csv\")"
   ]
  },
  {
   "cell_type": "code",
   "execution_count": 4,
   "id": "f1d3cffa",
   "metadata": {},
   "outputs": [
    {
     "name": "stdout",
     "output_type": "stream",
     "text": [
      "+---+------+----------------+------+------+-----+--------------------+\n",
      "|age|gender|            name|course|  roll|marks|               email|\n",
      "+---+------+----------------+------+------+-----+--------------------+\n",
      "| 28|Female| Hubert Oliveras|    DB|  2984|   59|Annika Hoffman_Na...|\n",
      "| 29|Female|Toshiko Hillyard| Cloud| 12899|   62|Margene Moores_Ma...|\n",
      "| 28|  Male|  Celeste Lollis|    PF| 21267|   45|Jeannetta Golden_...|\n",
      "| 29|Female|    Elenore Choy|    DB| 32877|   29|Billi Clore_Mitzi...|\n",
      "| 28|  Male|  Sheryll Towler|   DSA| 41487|   41|Claude Panos_Judi...|\n",
      "| 28|  Male|  Margene Moores|   MVC| 52771|   32|Toshiko Hillyard_...|\n",
      "| 28|  Male|     Neda Briski|   OOP| 61973|   69|Alberta Freund_El...|\n",
      "| 28|Female|    Claude Panos| Cloud| 72409|   85|Sheryll Towler_Al...|\n",
      "| 28|  Male|  Celeste Lollis|   MVC| 81492|   64|Nicole Harwood_Cl...|\n",
      "| 29|  Male|  Cordie Harnois|   OOP| 92882|   51|Judie Chipps_Clem...|\n",
      "| 29|Female|       Kena Wild|   DSA|102285|   35|Dustin Feagins_Ma...|\n",
      "| 29|  Male| Ernest Rossbach|    DB|111449|   53|Maybell Duguay_Ab...|\n",
      "| 28|Female|  Latia Vanhoose|    DB|122502|   27|Latia Vanhoose_Mi...|\n",
      "| 29|Female|  Latia Vanhoose|   MVC|132110|   55|Eda Neathery_Nico...|\n",
      "| 29|  Male|     Neda Briski|    PF|141770|   42|Margene Moores_Mi...|\n",
      "| 29|Female|  Latia Vanhoose|    DB|152159|   27|Claude Panos_Sant...|\n",
      "| 29|  Male|  Loris Crossett|   MVC|161771|   36|Mitzi Seldon_Jenn...|\n",
      "| 29|  Male|  Annika Hoffman|   OOP|171660|   22|Taryn Brownlee_Mi...|\n",
      "| 29|  Male|   Santa Kerfien|    PF|182129|   56|Judie Chipps_Tary...|\n",
      "| 28|Female|Mickey Cortright|    DB|192537|   62|Ernest Rossbach_M...|\n",
      "+---+------+----------------+------+------+-----+--------------------+\n",
      "only showing top 20 rows\n",
      "\n"
     ]
    }
   ],
   "source": [
    "df.show()"
   ]
  },
  {
   "cell_type": "code",
   "execution_count": 5,
   "id": "b4882119",
   "metadata": {},
   "outputs": [
    {
     "name": "stdout",
     "output_type": "stream",
     "text": [
      "root\n",
      " |-- age: integer (nullable = true)\n",
      " |-- gender: string (nullable = true)\n",
      " |-- name: string (nullable = true)\n",
      " |-- course: string (nullable = true)\n",
      " |-- roll: integer (nullable = true)\n",
      " |-- marks: integer (nullable = true)\n",
      " |-- email: string (nullable = true)\n",
      "\n"
     ]
    }
   ],
   "source": [
    "df.printSchema()"
   ]
  },
  {
   "cell_type": "markdown",
   "id": "1ac3d60e",
   "metadata": {},
   "source": [
    "Q1)  Show the total number of Students in the file"
   ]
  },
  {
   "cell_type": "code",
   "execution_count": 6,
   "id": "016e788f",
   "metadata": {},
   "outputs": [
    {
     "data": {
      "text/plain": [
       "res3: Long = 1000\r\n"
      ]
     },
     "execution_count": 6,
     "metadata": {},
     "output_type": "execute_result"
    }
   ],
   "source": [
    "df.count()"
   ]
  },
  {
   "cell_type": "code",
   "execution_count": 23,
   "id": "db881a05",
   "metadata": {},
   "outputs": [
    {
     "data": {
      "text/plain": [
       "res9: org.apache.spark.sql.Column = gender\r\n"
      ]
     },
     "execution_count": 23,
     "metadata": {},
     "output_type": "execute_result"
    }
   ],
   "source": [
    "df(\"gender\");"
   ]
  },
  {
   "cell_type": "markdown",
   "id": "19913ae1",
   "metadata": {},
   "source": [
    "Q2) total marks achieved by male and female students"
   ]
  },
  {
   "cell_type": "code",
   "execution_count": 31,
   "id": "3d14f6c7",
   "metadata": {},
   "outputs": [
    {
     "name": "stdout",
     "output_type": "stream",
     "text": [
      "+------+----------+\n",
      "|gender|sum(marks)|\n",
      "+------+----------+\n",
      "|Female|     29636|\n",
      "|  Male|     30461|\n",
      "+------+----------+\n",
      "\n"
     ]
    },
    {
     "data": {
      "text/plain": [
       "df_q2: org.apache.spark.sql.DataFrame = [gender: string, marks: int]\r\n",
       "total: org.apache.spark.sql.DataFrame = [gender: string, sum(marks): bigint]\r\n"
      ]
     },
     "execution_count": 31,
     "metadata": {},
     "output_type": "execute_result"
    }
   ],
   "source": [
    "val df_q2 = df.select(\"gender\",\"marks\")\n",
    "val total = df_q2.groupBy(\"gender\").sum()\n",
    "total.show()\n"
   ]
  },
  {
   "cell_type": "markdown",
   "id": "00ae07d6",
   "metadata": {},
   "source": [
    "Q3) Show the total number of students that have passed or failed"
   ]
  },
  {
   "cell_type": "code",
   "execution_count": 40,
   "id": "8dc77b4b",
   "metadata": {},
   "outputs": [
    {
     "name": "stdout",
     "output_type": "stream",
     "text": [
      "(The total number of students passed are  ,644)\n",
      "------------------------------------------------------------\n",
      "(The total number of students failed are ,356)"
     ]
    },
    {
     "data": {
      "text/plain": [
       "df: org.apache.spark.sql.DataFrame = [age: int, gender: string ... 5 more fields]\r\n",
       "passed: Long = 644\r\n",
       "failed: Long = 356\r\n"
      ]
     },
     "execution_count": 40,
     "metadata": {},
     "output_type": "execute_result"
    }
   ],
   "source": [
    "val df = spark.read.option(\"header\", true).option(\"inferSchema\", true).csv(\"StudentData.csv\")\n",
    "val passed = df.filter(df(\"marks\") >=50).select(\"marks\").count()\n",
    "print(\"The total number of students passed are  \",passed)\n",
    "print(\"\\n\"+\"--\"*30+\"\\n\")\n",
    "val failed = df.filter(df(\"marks\") <50).select(\"marks\").count()\n",
    "print(\"The total number of students failed are \",failed)"
   ]
  },
  {
   "cell_type": "markdown",
   "id": "011731c7",
   "metadata": {},
   "source": [
    "Q4) show the total number of students enrolled per course\n"
   ]
  },
  {
   "cell_type": "code",
   "execution_count": 42,
   "id": "79b355d7",
   "metadata": {},
   "outputs": [
    {
     "name": "stdout",
     "output_type": "stream",
     "text": [
      "\n",
      "------------------------------------------------------------\n",
      "The total number of students enrolled per course are +------+-----+\n",
      "|course|count|\n",
      "+------+-----+\n",
      "|    PF|  166|\n",
      "|    DB|  157|\n",
      "|   MVC|  157|\n",
      "|   DSA|  176|\n",
      "| Cloud|  192|\n",
      "|   OOP|  152|\n",
      "+------+-----+\n",
      "\n",
      "()"
     ]
    },
    {
     "data": {
      "text/plain": [
       "df: org.apache.spark.sql.DataFrame = [age: int, gender: string ... 5 more fields]\r\n",
       "course_enrolled: org.apache.spark.sql.DataFrame = [course: string, count: bigint]\r\n"
      ]
     },
     "execution_count": 42,
     "metadata": {},
     "output_type": "execute_result"
    }
   ],
   "source": [
    "val df = spark.read.option(\"header\", true).option(\"inferSchema\", true).csv(\"StudentData.csv\")\n",
    "val course_enrolled = df.groupBy(\"course\").count()\n",
    "\n",
    "print(\"\\n\"+\"--\"*30+\"\\n\")\n",
    "print(\"The total number of students enrolled per course are \")\n",
    "print(course_enrolled.show())"
   ]
  },
  {
   "cell_type": "markdown",
   "id": "bbf15b0d",
   "metadata": {},
   "source": [
    "Q5) show the total marks student achieved per course"
   ]
  },
  {
   "cell_type": "code",
   "execution_count": 43,
   "id": "cc2323a5",
   "metadata": {},
   "outputs": [
    {
     "name": "stdout",
     "output_type": "stream",
     "text": [
      "+------+----------+\n",
      "|course|sum(marks)|\n",
      "+------+----------+\n",
      "|    PF|      9933|\n",
      "|    DB|      9270|\n",
      "|   MVC|      9585|\n",
      "|   DSA|     10950|\n",
      "| Cloud|     11443|\n",
      "|   OOP|      8916|\n",
      "+------+----------+\n",
      "\n"
     ]
    },
    {
     "data": {
      "text/plain": [
       "df: org.apache.spark.sql.DataFrame = [age: int, gender: string ... 5 more fields]\r\n",
       "df_q5: org.apache.spark.sql.DataFrame = [course: string, marks: int]\r\n",
       "total: org.apache.spark.sql.DataFrame = [course: string, sum(marks): bigint]\r\n"
      ]
     },
     "execution_count": 43,
     "metadata": {},
     "output_type": "execute_result"
    }
   ],
   "source": [
    "val df = spark.read.option(\"header\", true).option(\"inferSchema\", true).csv(\"StudentData.csv\")\n",
    "val df_q5 = df.select(\"course\",\"marks\")\n",
    "val total = df_q5.groupBy(\"course\").sum()\n",
    "total.show()\n"
   ]
  },
  {
   "cell_type": "markdown",
   "id": "ee5c2400",
   "metadata": {},
   "source": [
    "Q6) show the average marks student achieved per course"
   ]
  },
  {
   "cell_type": "code",
   "execution_count": 47,
   "id": "805d45ce",
   "metadata": {},
   "outputs": [
    {
     "name": "stdout",
     "output_type": "stream",
     "text": [
      "+------+------------------+\n",
      "|course|        avg(marks)|\n",
      "+------+------------------+\n",
      "|    PF| 59.83734939759036|\n",
      "|    DB|59.044585987261144|\n",
      "|   MVC| 61.05095541401274|\n",
      "|   DSA| 62.21590909090909|\n",
      "| Cloud|59.598958333333336|\n",
      "|   OOP|  58.6578947368421|\n",
      "+------+------------------+\n",
      "\n",
      "\n",
      "------------------------------------------------------------\n"
     ]
    },
    {
     "data": {
      "text/plain": [
       "df: org.apache.spark.sql.DataFrame = [age: int, gender: string ... 5 more fields]\r\n",
       "df_q6: org.apache.spark.sql.DataFrame = [course: string, marks: int]\r\n",
       "total: org.apache.spark.sql.DataFrame = [course: string, avg(marks): double]\r\n"
      ]
     },
     "execution_count": 47,
     "metadata": {},
     "output_type": "execute_result"
    }
   ],
   "source": [
    "val df = spark.read.option(\"header\", true).option(\"inferSchema\", true).csv(\"StudentData.csv\")\n",
    "val df_q6 = df.select(\"course\",\"marks\")\n",
    "val total = df_q6.groupBy(\"course\").mean()\n",
    "total.show()\n",
    "\n",
    "print(\"\\n\"+\"--\"*30+\"\\n\")\n",
    "/*\n",
    "from pyspark.sql.functions import format_number\n",
    "total.select(format_number(total[1], 2).alias('avg_marks')).show()\n",
    "\n",
    "print(\"\\n\"+\"--\"*30+\"\\n\")\n",
    "*/"
   ]
  },
  {
   "cell_type": "markdown",
   "id": "a5c0d19f",
   "metadata": {},
   "source": [
    "Q7) show the minimum and maximum marks student achieved per course"
   ]
  },
  {
   "cell_type": "code",
   "execution_count": 49,
   "id": "f23a1550",
   "metadata": {},
   "outputs": [
    {
     "name": "stdout",
     "output_type": "stream",
     "text": [
      "+------+----------+\n",
      "|course|min(marks)|\n",
      "+------+----------+\n",
      "|    PF|        20|\n",
      "|    DB|        20|\n",
      "|   MVC|        22|\n",
      "|   DSA|        20|\n",
      "| Cloud|        20|\n",
      "|   OOP|        20|\n",
      "+------+----------+\n",
      "\n",
      "+------+----------+\n",
      "|course|max(marks)|\n",
      "+------+----------+\n",
      "|    PF|        99|\n",
      "|    DB|        98|\n",
      "|   MVC|        99|\n",
      "|   DSA|        99|\n",
      "| Cloud|        99|\n",
      "|   OOP|        99|\n",
      "+------+----------+\n",
      "\n"
     ]
    },
    {
     "data": {
      "text/plain": [
       "df: org.apache.spark.sql.DataFrame = [age: int, gender: string ... 5 more fields]\r\n",
       "df_q7: org.apache.spark.sql.DataFrame = [course: string, marks: int]\r\n",
       "min: Unit = ()\r\n",
       "max: Unit = ()\r\n"
      ]
     },
     "execution_count": 49,
     "metadata": {},
     "output_type": "execute_result"
    }
   ],
   "source": [
    "val df = spark.read.option(\"header\", true).option(\"inferSchema\", true).csv(\"StudentData.csv\")\n",
    "val df_q7 = df.select(\"course\",\"marks\")\n",
    "val min = df_q7.groupBy(\"course\").min().show()\n",
    "val max = df_q7.groupBy(\"course\").max().show()"
   ]
  },
  {
   "cell_type": "markdown",
   "id": "c0781ff4",
   "metadata": {},
   "source": [
    "Q8) show the average age of male and female students"
   ]
  },
  {
   "cell_type": "code",
   "execution_count": 51,
   "id": "e7133d18",
   "metadata": {},
   "outputs": [
    {
     "name": "stdout",
     "output_type": "stream",
     "text": [
      "+------+------------------+\n",
      "|gender|          avg(age)|\n",
      "+------+------------------+\n",
      "|Female|28.489021956087825|\n",
      "|  Male| 28.52304609218437|\n",
      "+------+------------------+\n",
      "\n",
      "\n",
      "------------------------------------------------------------\n"
     ]
    },
    {
     "data": {
      "text/plain": [
       "df: org.apache.spark.sql.DataFrame = [age: int, gender: string ... 5 more fields]\r\n",
       "df_q8: org.apache.spark.sql.DataFrame = [gender: string, age: int]\r\n",
       "total: org.apache.spark.sql.DataFrame = [gender: string, avg(age): double]\r\n"
      ]
     },
     "execution_count": 51,
     "metadata": {},
     "output_type": "execute_result"
    }
   ],
   "source": [
    "val df = spark.read.option(\"header\", true).option(\"inferSchema\", true).csv(\"StudentData.csv\")\n",
    "val df_q8 = df.select(\"gender\",\"age\")\n",
    "val total = df_q8.groupBy(\"gender\").mean()\n",
    "total.show()\n",
    "\n",
    "print(\"\\n\"+\"--\"*30+\"\\n\")\n",
    "/*\n",
    "from pyspark.sql.functions import format_number\n",
    "total.select(format_number(total[1], 2).alias('avg_age')).show()\n",
    "\n",
    "print(\"--\"*30)\n",
    "*/"
   ]
  },
  {
   "cell_type": "code",
   "execution_count": null,
   "id": "caaf4369",
   "metadata": {},
   "outputs": [],
   "source": []
  },
  {
   "cell_type": "code",
   "execution_count": null,
   "id": "40619414",
   "metadata": {},
   "outputs": [],
   "source": []
  }
 ],
 "metadata": {
  "kernelspec": {
   "display_name": "spylon-kernel",
   "language": "scala",
   "name": "spylon-kernel"
  },
  "language_info": {
   "codemirror_mode": "text/x-scala",
   "file_extension": ".scala",
   "help_links": [
    {
     "text": "MetaKernel Magics",
     "url": "https://metakernel.readthedocs.io/en/latest/source/README.html"
    }
   ],
   "mimetype": "text/x-scala",
   "name": "scala",
   "pygments_lexer": "scala",
   "version": "0.4.1"
  }
 },
 "nbformat": 4,
 "nbformat_minor": 5
}
